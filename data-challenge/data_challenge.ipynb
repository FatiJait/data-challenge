{
 "cells": [
  {
   "cell_type": "code",
   "execution_count": 10,
   "metadata": {},
   "outputs": [],
   "source": [
    "# data treatment\n",
    "import numpy as np\n",
    "import pandas as pd\n",
    "from sklearn import preprocessing\n",
    "from sklearn.model_selection import PredefinedSplit\n",
    "from sklearn.model_selection import train_test_split\n",
    "import matplotlib.pyplot as plt\n",
    "import seaborn as sns\n",
    "import pickle\n",
    "import warnings\n",
    "warnings.filterwarnings(\"ignore\")\n",
    "from sklearn.decomposition import PCA\n",
    "import numpy.matlib\n",
    "\n",
    "# machine learning\n",
    "from sklearn.model_selection import GridSearchCV\n",
    "from sklearn.neighbors import KNeighborsClassifier\n",
    "from sklearn.ensemble import RandomForestClassifier\n",
    "from sklearn.svm import SVC\n",
    "from sklearn.ensemble import ExtraTreesClassifier\n",
    "from sklearn.ensemble import AdaBoostClassifier\n",
    "from sklearn.tree import DecisionTreeClassifier\n",
    "from sklearn.linear_model import LogisticRegression\n",
    "from sklearn.linear_model import Perceptron\n",
    "from sklearn.ensemble import GradientBoostingClassifier\n",
    "from xgboost import XGBClassifier\n",
    "\n",
    "# deep learning\n",
    "import tensorflow as tf\n",
    "from tensorflow import keras"
   ]
  },
  {
   "cell_type": "code",
   "execution_count": 11,
   "metadata": {},
   "outputs": [],
   "source": [
    "X_train = pd.read_csv(\"valeo_xtrain.csv\")\n",
    "y_train = pd.read_csv(\"valeo_ytrain.csv\")\n",
    "X_test = pd.read_csv(\"valeo_xtest.csv\")"
   ]
  },
  {
   "cell_type": "code",
   "execution_count": 12,
   "metadata": {},
   "outputs": [],
   "source": [
    "X_ind = X_train.columns\n",
    "y_ind = y_train.columns"
   ]
  },
  {
   "cell_type": "code",
   "execution_count": 13,
   "metadata": {},
   "outputs": [],
   "source": [
    "train = pd.concat([X_train, y_train], axis=1)"
   ]
  },
  {
   "cell_type": "code",
   "execution_count": 14,
   "metadata": {},
   "outputs": [],
   "source": [
    "# parameters for the model\n",
    "train_size = 27086\n",
    "valid_size = 500\n",
    "seed = 0\n",
    "\n",
    "# convert arrays to numpy\n",
    "temp = train.sample(n=train_size+valid_size, random_state=seed)\n",
    "gb_X_train = np.array(temp[0:train_size][X_ind])\n",
    "gb_y_train = np.ravel(np.array(temp[0:train_size][y_ind]))\n",
    "gb_X_valid = np.array(temp[train_size:train_size+valid_size][X_ind])\n",
    "gb_y_valid = np.ravel(np.array(temp[train_size:train_size+valid_size][y_ind]))\n",
    "\n",
    "# split dataset as train/validation: create a list where train indices are -1 and validation indices are 0\n",
    "split_index = [-1] * train_size + [0] * valid_size\n",
    "split = PredefinedSplit(test_fold = split_index)\n",
    "\n",
    "# concatenate train and validation sets (required: the grid will separate them according to split)\n",
    "gb_X = np.concatenate((gb_X_train, gb_X_valid), axis=0)\n",
    "gb_y = np.concatenate((gb_y_train, gb_y_valid), axis=0)"
   ]
  },
  {
   "cell_type": "code",
   "execution_count": 15,
   "metadata": {},
   "outputs": [
    {
     "name": "stdout",
     "output_type": "stream",
     "text": [
      "GradientBoostingClassifier(learning_rate=0.05, max_features='sqrt')\n"
     ]
    }
   ],
   "source": [
    "# define grid\n",
    "grid = {'learning_rate':[0.05, 0.1, 0.2, 0.3],\n",
    "        'max_depth':[3, 6, 9, 12, 15],\n",
    "        'max_features':['sqrt', \"log2\", 0.2]}\n",
    "\n",
    "# run grid search\n",
    "gb = GradientBoostingClassifier()\n",
    "grid_search = GridSearchCV(gb, grid, cv=split, scoring='accuracy');\n",
    "grid_search.fit(gb_X, gb_y);\n",
    "print(grid_search.best_estimator_)"
   ]
  },
  {
   "cell_type": "code",
   "execution_count": 16,
   "metadata": {},
   "outputs": [],
   "source": [
    "# create model with optimal hyperparameter values\n",
    "gb = grid_search.best_estimator_;\n",
    "\n",
    "# save model to file\n",
    "pickle.dump(gb, open(\"gb.pickle.dat\", \"wb\"))"
   ]
  },
  {
   "cell_type": "code",
   "execution_count": 17,
   "metadata": {},
   "outputs": [],
   "source": [
    "# fit model to data\n",
    "gb.fit(X_train, y_train);"
   ]
  },
  {
   "cell_type": "code",
   "execution_count": 18,
   "metadata": {},
   "outputs": [
    {
     "name": "stdout",
     "output_type": "stream",
     "text": [
      "(27587,)\n"
     ]
    }
   ],
   "source": [
    "# obtain predictions on the test set\n",
    "sscore = gb.predict_proba(X_test)[:,1]\n",
    "# Save the anomaly scores to file\n",
    "print(sscore.shape)\n",
    "np.savetxt('ytest_challenge_student.csv', sscore, fmt = '%1.6f', delimiter=',')"
   ]
  },
  {
   "cell_type": "code",
   "execution_count": null,
   "metadata": {},
   "outputs": [],
   "source": []
  }
 ],
 "metadata": {
  "kernelspec": {
   "display_name": "Python 3",
   "language": "python",
   "name": "python3"
  },
  "language_info": {
   "codemirror_mode": {
    "name": "ipython",
    "version": 3
   },
   "file_extension": ".py",
   "mimetype": "text/x-python",
   "name": "python",
   "nbconvert_exporter": "python",
   "pygments_lexer": "ipython3",
   "version": "3.8.3"
  }
 },
 "nbformat": 4,
 "nbformat_minor": 4
}
